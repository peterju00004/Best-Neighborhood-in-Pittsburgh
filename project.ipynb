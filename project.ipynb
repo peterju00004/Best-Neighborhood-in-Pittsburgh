{
 "cells": [
  {
   "cell_type": "markdown",
   "metadata": {},
   "source": [
    "# Which Neighborhood is the Best in Pittsburgh?"
   ]
  },
  {
   "cell_type": "markdown",
   "metadata": {},
   "source": [
    "## by Peter Ju and Leo Liang"
   ]
  },
  {
   "cell_type": "markdown",
   "metadata": {},
   "source": [
    "### Introduction"
   ]
  },
  {
   "cell_type": "markdown",
   "metadata": {},
   "source": [
    "The environment we live in is essential for it influences our health. Living in a place with a good environment protects your physical health and heals your sanity from the damages caused by modern lifestyles and troubles. We would like to know which Pittsburgh neighborhood is the best on an environmental and individual health basis."
   ]
  },
  {
   "cell_type": "markdown",
   "metadata": {},
   "source": [
    "### The Metrics"
   ]
  },
  {
   "attachments": {
    "10fec6a0-59d4-4b7b-bec1-f5f01ec2bf65.png": {
     "image/png": "[encoded data removed]"
    }
   },
   "cell_type": "markdown",
   "metadata": {},
   "source": [
    "Our metric is the environment and individual health status in different neighborhoods in Pittsburgh. \n",
    "- Environment (Air Quality PM 2.5)\n",
    "- Environment (Illegal Dump Sites)\n",
    "- Individual Health (Hypertension + Hyperlipidemia) <br>\n",
    "\n",
    "We will rank every neighborhood by the three datasets and add up their ranks at the end. The neighborhood with the lowest sum of the ranks will be our best neighborhood.\n",
    "\n",
    "Datasets incorporated in our project includes:\n",
    "- [Allegheny County Particulate Matter 2.5](https://data.wprdc.org/dataset/particulate-matter-2-5)\n",
    "<br>This dataset includes data of PM 2.5 measured in Pittsburgh neighborhoods.\n",
    "- [Allegheny County Illegal Dump Site](https://data.wprdc.org/dataset/allegheny-county-illegal-dump-sites)\n",
    "<br>This dataset includes data of illegal dump sites and their estimated tons in Pittsburgh neighborhoods.\n",
    "- [Hypertension + Hyperlipidemia Comorbidity](https://data.wprdc.org/dataset/hypertension-hyperlipidemia-comorbidity)\n",
    "<br>This dataset includes data of hypertension and hyperlipidemia comorbidity prevalence in Pittsburgh neighborhoods.\n",
    "- [Pittsburgh Neighborhoods](https://data.wprdc.org/dataset/neighborhoods2![image.png](attachment:10fec6a0-59d4-4b7b-bec1-f5f01ec2bf65.png))\n",
    "<br>This dataset shows all neighborhoods and their locations in Pittsburgh."
   ]
  },
  {
   "cell_type": "markdown",
   "metadata": {},
   "source": [
    "### Metric: Air Quality by Neighborhood"
   ]
  },
  {
   "cell_type": "markdown",
   "metadata": {},
   "source": [
    "#### By Peter Ju"
   ]
  },
  {
   "cell_type": "markdown",
   "metadata": {},
   "source": [
    "Link to the dataset: [Allegheny County Particulate Matter 2.5](https://data.wprdc.org/dataset/particulate-matter-2-5)"
   ]
  },
  {
   "cell_type": "markdown",
   "metadata": {},
   "source": [
    "Import Python modules"
   ]
  },
  {
   "cell_type": "code",
   "execution_count": 1,
   "metadata": {},
   "outputs": [],
   "source": [
    "import geopandas as geopd\n",
    "import pandas as pd"
   ]
  },
  {
   "cell_type": "markdown",
   "metadata": {},
   "source": [
    "Read data"
   ]
  },
  {
   "cell_type": "code",
   "execution_count": 2,
   "metadata": {},
   "outputs": [
    {
     "data": {
      "text/html": [
       "<div>\n",
       "<style scoped>\n",
       "    .dataframe tbody tr th:only-of-type {\n",
       "        vertical-align: middle;\n",
       "    }\n",
       "\n",
       "    .dataframe tbody tr th {\n",
       "        vertical-align: top;\n",
       "    }\n",
       "\n",
       "    .dataframe thead th {\n",
       "        text-align: right;\n",
       "    }\n",
       "</style>\n",
       "<table border=\"1\" class=\"dataframe\">\n",
       "  <thead>\n",
       "    <tr style=\"text-align: right;\">\n",
       "      <th></th>\n",
       "      <th>CensusTract</th>\n",
       "      <th>PM25</th>\n",
       "    </tr>\n",
       "  </thead>\n",
       "  <tbody>\n",
       "    <tr>\n",
       "      <th>0</th>\n",
       "      <td>10300</td>\n",
       "      <td>12.264655</td>\n",
       "    </tr>\n",
       "    <tr>\n",
       "      <th>1</th>\n",
       "      <td>20100</td>\n",
       "      <td>12.283052</td>\n",
       "    </tr>\n",
       "    <tr>\n",
       "      <th>2</th>\n",
       "      <td>20300</td>\n",
       "      <td>12.241216</td>\n",
       "    </tr>\n",
       "    <tr>\n",
       "      <th>3</th>\n",
       "      <td>30500</td>\n",
       "      <td>12.234197</td>\n",
       "    </tr>\n",
       "    <tr>\n",
       "      <th>4</th>\n",
       "      <td>40200</td>\n",
       "      <td>12.315312</td>\n",
       "    </tr>\n",
       "  </tbody>\n",
       "</table>\n",
       "</div>"
      ],
      "text/plain": [
       "   CensusTract       PM25\n",
       "0        10300  12.264655\n",
       "1        20100  12.283052\n",
       "2        20300  12.241216\n",
       "3        30500  12.234197\n",
       "4        40200  12.315312"
      ]
     },
     "execution_count": 2,
     "metadata": {},
     "output_type": "execute_result"
    }
   ],
   "source": [
    "pm25 = pd.read_csv(\"Data/pm25.csv\")\n",
    "pm25.head()"
   ]
  },
  {
   "cell_type": "markdown",
   "metadata": {},
   "source": [
    "As we can see, the above dataset contains information about the air quality in different places specified by the Census Tract number."
   ]
  },
  {
   "cell_type": "markdown",
   "metadata": {},
   "source": [
    "We want to show this on a neighborhood map eventually, so let us load the shapefile by geopandas."
   ]
  },
  {
   "cell_type": "code",
   "execution_count": 3,
   "metadata": {},
   "outputs": [
    {
     "data": {
      "text/html": [
       "<div>\n",
       "<style scoped>\n",
       "    .dataframe tbody tr th:only-of-type {\n",
       "        vertical-align: middle;\n",
       "    }\n",
       "\n",
       "    .dataframe tbody tr th {\n",
       "        vertical-align: top;\n",
       "    }\n",
       "\n",
       "    .dataframe thead th {\n",
       "        text-align: right;\n",
       "    }\n",
       "</style>\n",
       "<table border=\"1\" class=\"dataframe\">\n",
       "  <thead>\n",
       "    <tr style=\"text-align: right;\">\n",
       "      <th></th>\n",
       "      <th>OBJECTID</th>\n",
       "      <th>fid_blockg</th>\n",
       "      <th>statefp10</th>\n",
       "      <th>countyfp10</th>\n",
       "      <th>tractce10</th>\n",
       "      <th>blkgrpce10</th>\n",
       "      <th>geoid10</th>\n",
       "      <th>namelsad10</th>\n",
       "      <th>mtfcc10</th>\n",
       "      <th>funcstat10</th>\n",
       "      <th>...</th>\n",
       "      <th>created_us</th>\n",
       "      <th>created_da</th>\n",
       "      <th>last_edite</th>\n",
       "      <th>last_edi_1</th>\n",
       "      <th>temp</th>\n",
       "      <th>pghdb_sde_</th>\n",
       "      <th>GlobalID</th>\n",
       "      <th>Shape__Are</th>\n",
       "      <th>Shape__Len</th>\n",
       "      <th>geometry</th>\n",
       "    </tr>\n",
       "  </thead>\n",
       "  <tbody>\n",
       "    <tr>\n",
       "      <th>0</th>\n",
       "      <td>1</td>\n",
       "      <td>233</td>\n",
       "      <td>42</td>\n",
       "      <td>003</td>\n",
       "      <td>140500</td>\n",
       "      <td>3</td>\n",
       "      <td>420031405003</td>\n",
       "      <td>Block Group 3</td>\n",
       "      <td>G5030</td>\n",
       "      <td>S</td>\n",
       "      <td>...</td>\n",
       "      <td>SDE</td>\n",
       "      <td>2020-08-14</td>\n",
       "      <td>SDE</td>\n",
       "      <td>2020-08-14</td>\n",
       "      <td>None</td>\n",
       "      <td>7968760.0</td>\n",
       "      <td>a642a6b6-a2a9-48d5-acf2-3e2ce87d4bc0</td>\n",
       "      <td>8.153647e+06</td>\n",
       "      <td>14047.065024</td>\n",
       "      <td>POLYGON ((-79.90560 40.45522, -79.90553 40.455...</td>\n",
       "    </tr>\n",
       "    <tr>\n",
       "      <th>1</th>\n",
       "      <td>2</td>\n",
       "      <td>203</td>\n",
       "      <td>42</td>\n",
       "      <td>003</td>\n",
       "      <td>140100</td>\n",
       "      <td>3</td>\n",
       "      <td>420031401003</td>\n",
       "      <td>Block Group 3</td>\n",
       "      <td>G5030</td>\n",
       "      <td>S</td>\n",
       "      <td>...</td>\n",
       "      <td>SDE</td>\n",
       "      <td>2020-08-14</td>\n",
       "      <td>SDE</td>\n",
       "      <td>2020-08-14</td>\n",
       "      <td>None</td>\n",
       "      <td>34078712.0</td>\n",
       "      <td>20d4605b-258e-441a-a57e-a28fdabb6d30</td>\n",
       "      <td>3.407739e+07</td>\n",
       "      <td>30347.886823</td>\n",
       "      <td>POLYGON ((-79.91309 40.43804, -79.91321 40.438...</td>\n",
       "    </tr>\n",
       "    <tr>\n",
       "      <th>2</th>\n",
       "      <td>3</td>\n",
       "      <td>86</td>\n",
       "      <td>42</td>\n",
       "      <td>003</td>\n",
       "      <td>101700</td>\n",
       "      <td>2</td>\n",
       "      <td>420031017002</td>\n",
       "      <td>Block Group 2</td>\n",
       "      <td>G5030</td>\n",
       "      <td>S</td>\n",
       "      <td>...</td>\n",
       "      <td>SDE</td>\n",
       "      <td>2020-08-14</td>\n",
       "      <td>SDE</td>\n",
       "      <td>2020-08-14</td>\n",
       "      <td>None</td>\n",
       "      <td>12751163.0</td>\n",
       "      <td>bf4065e7-c29c-48bd-b529-e7fd99077238</td>\n",
       "      <td>1.275116e+07</td>\n",
       "      <td>14577.441571</td>\n",
       "      <td>POLYGON ((-79.93457 40.47217, -79.93455 40.472...</td>\n",
       "    </tr>\n",
       "    <tr>\n",
       "      <th>3</th>\n",
       "      <td>4</td>\n",
       "      <td>214</td>\n",
       "      <td>42</td>\n",
       "      <td>003</td>\n",
       "      <td>050900</td>\n",
       "      <td>1</td>\n",
       "      <td>420030509001</td>\n",
       "      <td>Block Group 1</td>\n",
       "      <td>G5030</td>\n",
       "      <td>S</td>\n",
       "      <td>...</td>\n",
       "      <td>SDE</td>\n",
       "      <td>2020-08-14</td>\n",
       "      <td>SDE</td>\n",
       "      <td>2020-08-14</td>\n",
       "      <td>None</td>\n",
       "      <td>4997335.5</td>\n",
       "      <td>fed3fb32-0cd3-4556-aa41-17ee03b4fe41</td>\n",
       "      <td>4.997845e+06</td>\n",
       "      <td>14216.959213</td>\n",
       "      <td>POLYGON ((-79.96601 40.45520, -79.96596 40.454...</td>\n",
       "    </tr>\n",
       "    <tr>\n",
       "      <th>4</th>\n",
       "      <td>5</td>\n",
       "      <td>173</td>\n",
       "      <td>42</td>\n",
       "      <td>003</td>\n",
       "      <td>300100</td>\n",
       "      <td>5</td>\n",
       "      <td>420033001005</td>\n",
       "      <td>Block Group 5</td>\n",
       "      <td>G5030</td>\n",
       "      <td>S</td>\n",
       "      <td>...</td>\n",
       "      <td>SDE</td>\n",
       "      <td>2020-08-14</td>\n",
       "      <td>SDE</td>\n",
       "      <td>2020-08-14</td>\n",
       "      <td>None</td>\n",
       "      <td>8411048.0</td>\n",
       "      <td>8669d2f0-b886-4519-99d0-bb1015b592b0</td>\n",
       "      <td>8.410563e+06</td>\n",
       "      <td>12003.269761</td>\n",
       "      <td>POLYGON ((-79.98845 40.41851, -79.98821 40.418...</td>\n",
       "    </tr>\n",
       "  </tbody>\n",
       "</table>\n",
       "<p>5 rows × 40 columns</p>\n",
       "</div>"
      ],
      "text/plain": [
       "   OBJECTID  fid_blockg statefp10 countyfp10 tractce10 blkgrpce10  \\\n",
       "0         1         233        42        003    140500          3   \n",
       "1         2         203        42        003    140100          3   \n",
       "2         3          86        42        003    101700          2   \n",
       "3         4         214        42        003    050900          1   \n",
       "4         5         173        42        003    300100          5   \n",
       "\n",
       "        geoid10     namelsad10 mtfcc10 funcstat10  ...  created_us  \\\n",
       "0  420031405003  Block Group 3   G5030          S  ...         SDE   \n",
       "1  420031401003  Block Group 3   G5030          S  ...         SDE   \n",
       "2  420031017002  Block Group 2   G5030          S  ...         SDE   \n",
       "3  420030509001  Block Group 1   G5030          S  ...         SDE   \n",
       "4  420033001005  Block Group 5   G5030          S  ...         SDE   \n",
       "\n",
       "   created_da last_edite  last_edi_1  temp  pghdb_sde_  \\\n",
       "0  2020-08-14        SDE  2020-08-14  None   7968760.0   \n",
       "1  2020-08-14        SDE  2020-08-14  None  34078712.0   \n",
       "2  2020-08-14        SDE  2020-08-14  None  12751163.0   \n",
       "3  2020-08-14        SDE  2020-08-14  None   4997335.5   \n",
       "4  2020-08-14        SDE  2020-08-14  None   8411048.0   \n",
       "\n",
       "                               GlobalID    Shape__Are    Shape__Len  \\\n",
       "0  a642a6b6-a2a9-48d5-acf2-3e2ce87d4bc0  8.153647e+06  14047.065024   \n",
       "1  20d4605b-258e-441a-a57e-a28fdabb6d30  3.407739e+07  30347.886823   \n",
       "2  bf4065e7-c29c-48bd-b529-e7fd99077238  1.275116e+07  14577.441571   \n",
       "3  fed3fb32-0cd3-4556-aa41-17ee03b4fe41  4.997845e+06  14216.959213   \n",
       "4  8669d2f0-b886-4519-99d0-bb1015b592b0  8.410563e+06  12003.269761   \n",
       "\n",
       "                                            geometry  \n",
       "0  POLYGON ((-79.90560 40.45522, -79.90553 40.455...  \n",
       "1  POLYGON ((-79.91309 40.43804, -79.91321 40.438...  \n",
       "2  POLYGON ((-79.93457 40.47217, -79.93455 40.472...  \n",
       "3  POLYGON ((-79.96601 40.45520, -79.96596 40.454...  \n",
       "4  POLYGON ((-79.98845 40.41851, -79.98821 40.418...  \n",
       "\n",
       "[5 rows x 40 columns]"
      ]
     },
     "execution_count": 3,
     "metadata": {},
     "output_type": "execute_result"
    }
   ],
   "source": [
    "neighborhoods = geopd.read_file(\"Data/pittsburghpaneighborhoods-/Neighborhoods_.shp\")\n",
    "neighborhoods.head()"
   ]
  },
  {
   "cell_type": "markdown",
   "metadata": {},
   "source": [
    "We can now create a DataFrame to store everything we have for the air quality index and the neighborhoods shapefile since we will not need every column in the two datasets."
   ]
  },
  {
   "cell_type": "code",
   "execution_count": 4,
   "metadata": {},
   "outputs": [
    {
     "data": {
      "text/html": [
       "<div>\n",
       "<style scoped>\n",
       "    .dataframe tbody tr th:only-of-type {\n",
       "        vertical-align: middle;\n",
       "    }\n",
       "\n",
       "    .dataframe tbody tr th {\n",
       "        vertical-align: top;\n",
       "    }\n",
       "\n",
       "    .dataframe thead th {\n",
       "        text-align: right;\n",
       "    }\n",
       "</style>\n",
       "<table border=\"1\" class=\"dataframe\">\n",
       "  <thead>\n",
       "    <tr style=\"text-align: right;\">\n",
       "      <th></th>\n",
       "      <th>Neighborhood</th>\n",
       "      <th>tractce10</th>\n",
       "      <th>PM25</th>\n",
       "    </tr>\n",
       "  </thead>\n",
       "  <tbody>\n",
       "    <tr>\n",
       "      <th>0</th>\n",
       "      <td>Point Breeze North</td>\n",
       "      <td>140500</td>\n",
       "      <td>NaN</td>\n",
       "    </tr>\n",
       "    <tr>\n",
       "      <th>1</th>\n",
       "      <td>Squirrel Hill North</td>\n",
       "      <td>140100</td>\n",
       "      <td>NaN</td>\n",
       "    </tr>\n",
       "    <tr>\n",
       "      <th>2</th>\n",
       "      <td>Garfield</td>\n",
       "      <td>101700</td>\n",
       "      <td>NaN</td>\n",
       "    </tr>\n",
       "    <tr>\n",
       "      <th>3</th>\n",
       "      <td>Bedford Dwellings</td>\n",
       "      <td>050900</td>\n",
       "      <td>NaN</td>\n",
       "    </tr>\n",
       "    <tr>\n",
       "      <th>4</th>\n",
       "      <td>Knoxville</td>\n",
       "      <td>300100</td>\n",
       "      <td>NaN</td>\n",
       "    </tr>\n",
       "    <tr>\n",
       "      <th>...</th>\n",
       "      <td>...</td>\n",
       "      <td>...</td>\n",
       "      <td>...</td>\n",
       "    </tr>\n",
       "    <tr>\n",
       "      <th>85</th>\n",
       "      <td>Regent Square</td>\n",
       "      <td>141000</td>\n",
       "      <td>NaN</td>\n",
       "    </tr>\n",
       "    <tr>\n",
       "      <th>86</th>\n",
       "      <td>Terrace Village</td>\n",
       "      <td>051100</td>\n",
       "      <td>NaN</td>\n",
       "    </tr>\n",
       "    <tr>\n",
       "      <th>87</th>\n",
       "      <td>Elliott</td>\n",
       "      <td>562600</td>\n",
       "      <td>NaN</td>\n",
       "    </tr>\n",
       "    <tr>\n",
       "      <th>88</th>\n",
       "      <td>South Side Flats</td>\n",
       "      <td>170200</td>\n",
       "      <td>NaN</td>\n",
       "    </tr>\n",
       "    <tr>\n",
       "      <th>89</th>\n",
       "      <td>Fineview</td>\n",
       "      <td>250900</td>\n",
       "      <td>NaN</td>\n",
       "    </tr>\n",
       "  </tbody>\n",
       "</table>\n",
       "<p>90 rows × 3 columns</p>\n",
       "</div>"
      ],
      "text/plain": [
       "           Neighborhood tractce10  PM25\n",
       "0    Point Breeze North    140500   NaN\n",
       "1   Squirrel Hill North    140100   NaN\n",
       "2              Garfield    101700   NaN\n",
       "3     Bedford Dwellings    050900   NaN\n",
       "4             Knoxville    300100   NaN\n",
       "..                  ...       ...   ...\n",
       "85        Regent Square    141000   NaN\n",
       "86      Terrace Village    051100   NaN\n",
       "87              Elliott    562600   NaN\n",
       "88     South Side Flats    170200   NaN\n",
       "89             Fineview    250900   NaN\n",
       "\n",
       "[90 rows x 3 columns]"
      ]
     },
     "execution_count": 4,
     "metadata": {},
     "output_type": "execute_result"
    }
   ],
   "source": [
    "neighborhood_pm25 = pd.DataFrame(columns = [\"Neighborhood\", \"tractce10\", \"PM25\"])\n",
    "neighborhood_pm25[\"Neighborhood\"] = neighborhoods[\"hood\"]\n",
    "neighborhood_pm25[\"tractce10\"] = neighborhoods[\"tractce10\"]\n",
    "\n",
    "neighborhood_pm25[[\"PM25\"]] = neighborhood_pm25[[\"PM25\"]].astype(float)\n",
    "neighborhood_pm25"
   ]
  },
  {
   "cell_type": "markdown",
   "metadata": {},
   "source": [
    "Now let us iterate through ```pm25``` to fill in the ```NaN```s."
   ]
  },
  {
   "cell_type": "code",
   "execution_count": null,
   "metadata": {},
   "outputs": [],
   "source": [
    "for ignored, row in pm25.iterrows():\n",
    "    ct = row[\"CensusTract\"]\n",
    "    for index, each_neighborhood in neighborhood_pm25.iterrows():\n",
    "        if str(each_neighborhood[\"tractce10\"]) == \"None\":\n",
    "            continue\n",
    "        else:\n",
    "            if float(str(each_neighborhood[\"tractce10\"])) == float((str(ct))):\n",
    "                if pd.isna(neighborhood_pm25.at[index, \"PM25\"]):\n",
    "                    neighborhood_pm25.at[index, \"PM25\"] = row[\"PM25\"]\n",
    "            \n",
    "neighborhood_pm25"
   ]
  },
  {
   "cell_type": "markdown",
   "metadata": {},
   "source": [
    "We can sort the DataFrame ascendingly since a smaller PM25 value indicates better air quality."
   ]
  },
  {
   "cell_type": "code",
   "execution_count": null,
   "metadata": {},
   "outputs": [],
   "source": [
    "neighborhood_pm25 = neighborhood_pm25.sort_values(\"PM25\", ascending=True)\n",
    "neighborhood_pm25.head(10)"
   ]
  },
  {
   "cell_type": "markdown",
   "metadata": {},
   "source": [
    "The below bar graph shows the distribution of the PM 2.5 values among neighborhoods:"
   ]
  },
  {
   "cell_type": "code",
   "execution_count": null,
   "metadata": {},
   "outputs": [],
   "source": [
    "plot = neighborhood_pm25.plot(kind='bar', x=\"Neighborhood\", y=\"PM25\", title=\"PM 2.5 by Neighborhood\", figsize=(20,10)).set_ylim([12,12.5])"
   ]
  },
  {
   "cell_type": "markdown",
   "metadata": {},
   "source": [
    "Let us make a map to see how the PM2.5 in one neighborhood differs from another."
   ]
  },
  {
   "cell_type": "code",
   "execution_count": null,
   "metadata": {},
   "outputs": [],
   "source": [
    "neighborhoods[\"PM25\"] = neighborhood_pm25[\"PM25\"]\n",
    "\n",
    "neighborhoods.plot(column=\"PM25\", legend=True, figsize=(10,10))"
   ]
  },
  {
   "cell_type": "markdown",
   "metadata": {},
   "source": [
    "The rank of neighborhoods for this metric will be:"
   ]
  },
  {
   "cell_type": "code",
   "execution_count": null,
   "metadata": {},
   "outputs": [],
   "source": [
    "rank = pd.DataFrame(columns=[\"Neighborhood\", \"Rank_PM25\", \"Rank_Dump\", \"Rank_Hype\", \"Total\"])\n",
    "\n",
    "rank[\"Neighborhood\"] = neighborhood_pm25[\"Neighborhood\"]\n",
    "rank[\"Rank_PM25\"] = 0\n",
    "rank[\"Rank_Dump\"] = 0\n",
    "rank[\"Rank_Hype\"] = 0\n",
    "rank[\"Total\"] = 0\n",
    "\n",
    "counter, hist_counter = 1, 1\n",
    "\n",
    "value = neighborhood_pm25.iloc[0, 2]\n",
    "\n",
    "for index, row in neighborhood_pm25.iterrows():\n",
    "    current_value = row[\"PM25\"]\n",
    "    \n",
    "    if current_value == value:\n",
    "        rank.loc[rank[\"Neighborhood\"] == row[\"Neighborhood\"], \"Rank_PM25\"] = hist_counter\n",
    "        counter += 1\n",
    "    else:\n",
    "        rank.loc[rank[\"Neighborhood\"] == row[\"Neighborhood\"], \"Rank_PM25\"] = counter\n",
    "        hist_counter = counter\n",
    "        counter += 1\n",
    "        value = current_value\n",
    "\n",
    "rank.sort_values(by=[\"Rank_PM25\"]).head(10)"
   ]
  },
  {
   "cell_type": "markdown",
   "metadata": {},
   "source": [
    "### Illegal Dump Sites by Neighborhood"
   ]
  },
  {
   "cell_type": "markdown",
   "metadata": {},
   "source": [
    "#### By Peter Ju"
   ]
  },
  {
   "cell_type": "markdown",
   "metadata": {},
   "source": [
    "Link to the dataset:  [Allegheny County Illegal Dump Sites](hhttps://data.wprdc.org/dataset/allegheny-county-illegal-dump-sites)"
   ]
  },
  {
   "cell_type": "markdown",
   "metadata": {},
   "source": [
    "Read data"
   ]
  },
  {
   "cell_type": "code",
   "execution_count": null,
   "metadata": {},
   "outputs": [],
   "source": [
    "dump = pd.read_csv(\"Data/dump-site.csv\")\n",
    "dump.head()"
   ]
  },
  {
   "cell_type": "markdown",
   "metadata": {},
   "source": [
    "We want to do data preprocessing to convert certain columns to ```float``` type and eliminate ineffective rows."
   ]
  },
  {
   "cell_type": "code",
   "execution_count": null,
   "metadata": {},
   "outputs": [],
   "source": [
    "dump = dump.loc[dump[\"estimated_tons\"] != \"Undetermined\"]\n",
    "dump = dump.loc[dump[\"estimated_tons\"] != \"Not Applicable\"]\n",
    "dump = dump[dump[\"estimated_tons\"].notna()]\n",
    "dump[[\"estimated_tons\"]] = dump[[\"estimated_tons\"]].astype(float)\n",
    "dump[[\"latitude\"]] = dump[[\"latitude\"]].astype(float)\n",
    "dump[[\"longitude\"]] = dump[[\"longitude\"]].astype(float)"
   ]
  },
  {
   "cell_type": "markdown",
   "metadata": {},
   "source": [
    "The shapefile would be the same as the one we previously used. Let us load that in again."
   ]
  },
  {
   "cell_type": "code",
   "execution_count": null,
   "metadata": {},
   "outputs": [],
   "source": [
    "neighborhoods = geopd.read_file(\"Data/pittsburghpaneighborhoods-/Neighborhoods_.shp\")\n",
    "neighborhoods.head()"
   ]
  },
  {
   "cell_type": "markdown",
   "metadata": {},
   "source": [
    "We can now create a DataFrame to store everything we want: the dump sites and the name of the neighborhoods, which is what we use in this scenario to assign dump amount to which neighborhood it is in."
   ]
  },
  {
   "cell_type": "code",
   "execution_count": null,
   "metadata": {},
   "outputs": [],
   "source": [
    "neighborhood_dump = pd.DataFrame(columns = [\"Neighborhood\", \"Amount\"])\n",
    "neighborhood_dump[\"Neighborhood\"] = neighborhoods[\"hood\"]\n",
    "\n",
    "neighborhood_dump[[\"Amount\"]] = 0\n",
    "neighborhood_dump"
   ]
  },
  {
   "cell_type": "markdown",
   "metadata": {},
   "source": [
    "Now iterate through the dataset:"
   ]
  },
  {
   "cell_type": "code",
   "execution_count": null,
   "metadata": {},
   "outputs": [],
   "source": [
    "for ignored, row in dump.iterrows():\n",
    "    \n",
    "    for index, neighborhood in neighborhood_dump.iterrows():\n",
    "        if neighborhood[\"Neighborhood\"] == row[\"Neighborhood\"]:\n",
    "            if neighborhood_dump.at[index, \"Amount\"] == 0:\n",
    "                neighborhood_dump.at[index, \"Amount\"] = row[\"estimated_tons\"]\n",
    "            else:\n",
    "                neighborhood_dump.at[index, \"Amount\"] = neighborhood_dump.at[index, \"Amount\"] + row[\"estimated_tons\"]\n",
    "\n",
    "neighborhood_dump"
   ]
  },
  {
   "cell_type": "markdown",
   "metadata": {},
   "source": [
    "We can sort the DataFrame ascendingly since a smaller value indicates that the neighborhood has less illegal dump sites."
   ]
  },
  {
   "cell_type": "code",
   "execution_count": null,
   "metadata": {},
   "outputs": [],
   "source": [
    "neighborhood_dump = neighborhood_dump.sort_values(\"Amount\", ascending=True)\n",
    "neighborhood_dump.head(20)"
   ]
  },
  {
   "cell_type": "markdown",
   "metadata": {},
   "source": [
    "This does not give us much insight. So let us look at the rows at the end."
   ]
  },
  {
   "cell_type": "code",
   "execution_count": null,
   "metadata": {},
   "outputs": [],
   "source": [
    "neighborhood_dump.tail(20)"
   ]
  },
  {
   "cell_type": "markdown",
   "metadata": {},
   "source": [
    "Below is a bargraph of the data we have."
   ]
  },
  {
   "cell_type": "code",
   "execution_count": null,
   "metadata": {},
   "outputs": [],
   "source": [
    "plot = neighborhood_dump.plot(kind='bar', x=\"Neighborhood\", y=\"Amount\", title=\"Illegal Dump Site by Neighborhood\", figsize=(20,10))"
   ]
  },
  {
   "cell_type": "markdown",
   "metadata": {},
   "source": [
    "Beltzhoover has a very interesting amount here. To put that in a map:"
   ]
  },
  {
   "cell_type": "code",
   "execution_count": null,
   "metadata": {},
   "outputs": [],
   "source": [
    "neighborhoods[\"Amount\"] = neighborhood_dump[\"Amount\"]\n",
    "\n",
    "neighborhoods.plot(column=\"Amount\", legend=True, figsize=(10,10))"
   ]
  },
  {
   "cell_type": "markdown",
   "metadata": {},
   "source": [
    "The rank of neighborhoods for this metric will be:"
   ]
  },
  {
   "cell_type": "code",
   "execution_count": null,
   "metadata": {},
   "outputs": [],
   "source": [
    "counter, hist_counter = 1, 1\n",
    "\n",
    "value = neighborhood_dump.iloc[0, 1]\n",
    "\n",
    "for index, row in neighborhood_dump.iterrows():\n",
    "    current_value = row[\"Amount\"]\n",
    "    \n",
    "    if current_value == value:\n",
    "        rank.loc[rank[\"Neighborhood\"] == row[\"Neighborhood\"], \"Rank_Dump\"] = hist_counter\n",
    "        counter += 1\n",
    "    else:\n",
    "        rank.loc[rank[\"Neighborhood\"] == row[\"Neighborhood\"], \"Rank_Dump\"] = counter\n",
    "        hist_counter = counter\n",
    "        counter += 1\n",
    "        value = current_value\n",
    "    \n",
    "rank.sort_values(by=[\"Rank_Dump\"])"
   ]
  },
  {
   "cell_type": "markdown",
   "metadata": {},
   "source": [
    "### Hypertension By Neighborhoods\n",
    "#### by Leo Liang"
   ]
  },
  {
   "cell_type": "markdown",
   "metadata": {},
   "source": [
    "#### We first start by importing the necessary pandas for our datasets,\n",
    "##### then read in our first file: the dataset on hypertension and hyperlipidemia"
   ]
  },
  {
   "cell_type": "code",
   "execution_count": null,
   "metadata": {},
   "outputs": [],
   "source": [
    "import geopandas as gpd\n",
    "import pandas as pd\n",
    "\n",
    "hyper_data = gpd.read_file(\"Data/hypertension_hyperlipidemia_all.csv\")\n",
    "\n",
    "#insert mickey mouse secret tool used for later here\n",
    "hyper_data"
   ]
  },
  {
   "cell_type": "markdown",
   "metadata": {},
   "source": [
    "#### The column names don't really tell us anything, so either we trust my description of each column (totaly reliable :]) or we can rely on the data dictionary for this data set."
   ]
  },
  {
   "cell_type": "code",
   "execution_count": null,
   "metadata": {},
   "outputs": [],
   "source": [
    "diction = pd.read_csv(\"Data/hypertension-data-dictionary.csv\")\n",
    "diction"
   ]
  },
  {
   "cell_type": "markdown",
   "metadata": {},
   "source": [
    "#### Damn word cut offs..."
   ]
  },
  {
   "cell_type": "code",
   "execution_count": null,
   "metadata": {},
   "outputs": [],
   "source": [
    "i = 0\n",
    "for d in diction[\"description\"]:\n",
    "    print(diction.loc[i, \"column\"]+\":\", d)\n",
    "    i+=1"
   ]
  },
  {
   "cell_type": "markdown",
   "metadata": {},
   "source": [
    "#### From this, we can see that *LTPAD* is the total number of people with within this research's population, whereas *LTPAN* is the total number of people diagnosed with Hypertension and Hyperlipidemia.\n",
    "  \n",
    "### Now, lets start plotting\n",
    "\n",
    "#### First, we import a file containing different census tracks and the respective neighborhood it maps to:"
   ]
  },
  {
   "cell_type": "code",
   "execution_count": null,
   "metadata": {},
   "outputs": [],
   "source": [
    "mapdata = gpd.read_file(\"Data/pittsburghpaneighborhoods-/Neighborhoods_.shp\")\n",
    "mapdata"
   ]
  },
  {
   "cell_type": "markdown",
   "metadata": {},
   "source": [
    "#### Now, trust me this time that there is a neighborhoods column because text cut off sucks sometimes :P\n",
    "\n",
    "#### We then make a Dataframe containting the cenus tracts to their respective neighborhoods"
   ]
  },
  {
   "cell_type": "code",
   "execution_count": null,
   "metadata": {},
   "outputs": [],
   "source": [
    "neighborhoods = pd.DataFrame(columns = [\"CT\", \"Neighborhoods\", \"Condition Average\"])\n",
    "neighborhoods[\"CT\"] = mapdata[\"tractce10\"]\n",
    "neighborhoods[\"Neighborhoods\"] = mapdata[\"hood\"]\n",
    "\n",
    "neighborhoods"
   ]
  },
  {
   "cell_type": "markdown",
   "metadata": {},
   "source": [
    "#### Now that we have this table of, all thats left is to populate it with the neighborhood's statistics for hypertension and hyperlipidemia"
   ]
  },
  {
   "cell_type": "code",
   "execution_count": null,
   "metadata": {},
   "outputs": [],
   "source": [
    "hyper = hyper_data.set_index(\"CT\")\n",
    "neigh = neighborhoods.set_index(\"CT\")\n",
    "\n",
    "for i, row in hyper.iterrows():\n",
    "    for j, row2 in neigh.iterrows():\n",
    "        if i == j:\n",
    "            if float(row[\"LTPAD\"]) < 50:          #elminates neighborhoods with less than 50 total samples\n",
    "                continue\n",
    "            row2[\"Condition Average\"] = float(row[\"LTPAN\"])/float(row[\"LTPAD\"])\n",
    "            break\n",
    "neigh"
   ]
  },
  {
   "cell_type": "markdown",
   "metadata": {},
   "source": [
    "#### Data for some neighborhoods are missing due to the research csv file not having data on some neighborhoods"
   ]
  },
  {
   "cell_type": "code",
   "execution_count": null,
   "metadata": {},
   "outputs": [],
   "source": [
    "neigh = neigh.sort_values(\"Condition Average\", ascending=True)\n",
    "neigh"
   ]
  },
  {
   "cell_type": "markdown",
   "metadata": {},
   "source": [
    "#### Now we can plot the data as a bar graph to visualize it"
   ]
  },
  {
   "cell_type": "code",
   "execution_count": null,
   "metadata": {},
   "outputs": [],
   "source": [
    "plot = neigh.plot(kind='bar', x=\"Neighborhoods\", y=\"Condition Average\", title=\"Hypertension/Hyperlipidemia by Neighborhood\", figsize=(20,10))"
   ]
  },
  {
   "cell_type": "markdown",
   "metadata": {},
   "source": [
    "#### The neighborhoods with the lowest percentage of people afflicted with hypertension and hyperlipidemia are towards the left side  \n",
    "\n",
    "#### Now lets map the data to visualize which region is the best"
   ]
  },
  {
   "cell_type": "code",
   "execution_count": null,
   "metadata": {},
   "outputs": [],
   "source": [
    "neigh[[\"Condition Average\"]] = neigh[[\"Condition Average\"]].astype(float)\n",
    "\n",
    "neigh = neigh.reset_index()\n",
    "mapdata[\"Condition Average\"] = neigh[\"Condition Average\"]\n",
    "\n",
    "mapdata.plot(column=\"Condition Average\", legend=True, figsize=(10,10))"
   ]
  },
  {
   "cell_type": "markdown",
   "metadata": {},
   "source": [
    "The rank of neighborhoods for this metric will be:"
   ]
  },
  {
   "cell_type": "code",
   "execution_count": null,
   "metadata": {},
   "outputs": [],
   "source": [
    "counter, hist_counter = 1, 1\n",
    "\n",
    "value = neigh.iloc[0, 1]\n",
    "\n",
    "for index, row in neigh.iterrows():\n",
    "    current_value = row[\"Condition Average\"]\n",
    "    \n",
    "    if current_value == value:\n",
    "        rank.loc[rank[\"Neighborhood\"] == row[\"Neighborhoods\"], \"Rank_Hype\"] = hist_counter\n",
    "        counter += 1\n",
    "    else:\n",
    "        rank.loc[rank[\"Neighborhood\"] == row[\"Neighborhoods\"], \"Rank_Hype\"] = counter\n",
    "        hist_counter = counter\n",
    "        counter += 1\n",
    "        value = current_value\n",
    "    \n",
    "rank.sort_values(by=[\"Rank_Hype\"])"
   ]
  },
  {
   "cell_type": "markdown",
   "metadata": {},
   "source": [
    "#### It seems that the Northeast region of Pittsburgh may have the lowest rate of hypertension and hyperlipidemia!"
   ]
  },
  {
   "cell_type": "markdown",
   "metadata": {},
   "source": [
    "### Best Neighborhood"
   ]
  },
  {
   "cell_type": "markdown",
   "metadata": {},
   "source": [
    "To find out which neighborhood is the best, we just add up the rank number in three metrics. The best neighborhood is the one with the least sum amongst all."
   ]
  },
  {
   "cell_type": "code",
   "execution_count": null,
   "metadata": {},
   "outputs": [],
   "source": [
    "for index, row in rank.iterrows():\n",
    "    rank.at[index, \"Total\"] = row[\"Rank_PM25\"] + row[\"Rank_Dump\"] + row[\"Rank_Hype\"]\n",
    "    \n",
    "rank.sort_values(by=[\"Total\"]).head(10)"
   ]
  },
  {
   "cell_type": "markdown",
   "metadata": {},
   "source": [
    "And the winner goes to Upper Lawrenceville!"
   ]
  },
  {
   "cell_type": "markdown",
   "metadata": {},
   "source": [
    "Putting the ranks on a map:"
   ]
  },
  {
   "cell_type": "code",
   "execution_count": null,
   "metadata": {},
   "outputs": [],
   "source": [
    "neighborhoods = geopd.read_file(\"Data/pittsburghpaneighborhoods-/Neighborhoods_.shp\")\n",
    "\n",
    "neighborhoods[\"Rank\"] = 0\n",
    "\n",
    "for index, row in rank.iterrows():\n",
    "    neighborhoods.loc[neighborhoods[\"hood\"] == row[\"Neighborhood\"], \"Rank\"] = row[\"Total\"]\n",
    "\n",
    "neighborhoods.plot(column=\"Rank\", legend=True, figsize=(10,10))"
   ]
  },
  {
   "cell_type": "markdown",
   "metadata": {},
   "source": [
    "### Conclusion"
   ]
  },
  {
   "cell_type": "markdown",
   "metadata": {},
   "source": [
    "**Peter**: It is kind of suprising to see Upper Lawrenceville is having a total rank this low compared to its opponents. To be honest, I am not really familiar with that many neighborhoods inside Pittsburgh since I have not been very long here. However, to a certain aspect, the neighborhood with a good environment often times make people healthier and happier living there. It seems that smaller aspects of environments somehow correlates with each other - that is, say, if a neighborhood has better air quality, then it might also be cleaner than the other neighborhoods."
   ]
  },
  {
   "cell_type": "markdown",
   "metadata": {},
   "source": [
    "**Leo**: I haven't really explored much of Pittsburgh outside of Oakland and a few other places, so my hypothesized winner was decided with complete familiority bias (North O). Personally I think this data driven approach may correlate with some aspects of a neighborhood such as sick population or general wealth which are factors in whether a neighborhood is \"good\" or not. However, This approach may also miss important things that make a neighborhood great such as culture or opportunities."
   ]
  },
  {
   "cell_type": "code",
   "execution_count": null,
   "metadata": {},
   "outputs": [],
   "source": []
  }
 ],
 "metadata": {
  "kernelspec": {
   "display_name": "Python 3",
   "language": "python",
   "name": "python3"
  },
  "language_info": {
   "codemirror_mode": {
    "name": "ipython",
    "version": 3
   },
   "file_extension": ".py",
   "mimetype": "text/x-python",
   "name": "python",
   "nbconvert_exporter": "python",
   "pygments_lexer": "ipython3",
   "version": "3.8.3"
  }
 },
 "nbformat": 4,
 "nbformat_minor": 4
}
